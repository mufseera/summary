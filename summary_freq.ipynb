{
 "cells": [
  {
   "cell_type": "code",
   "execution_count": 1,
   "id": "ff554b4b",
   "metadata": {},
   "outputs": [],
   "source": [
    "import nltk\n",
    "from nltk.corpus import stopwords\n",
    "from nltk.tokenize import sent_tokenize, word_tokenize"
   ]
  },
  {
   "cell_type": "code",
   "execution_count": 2,
   "id": "680a04b1",
   "metadata": {},
   "outputs": [],
   "source": [
    "stoplist = set(stopwords.words(\"english\"))"
   ]
  },
  {
   "cell_type": "code",
   "execution_count": 3,
   "id": "125e686d",
   "metadata": {},
   "outputs": [],
   "source": [
    "text = \"\"\"the surprise court ruling that cut through shell’s greenwashing facade. \n",
    "after decades of exhausting climate change denial, we’re now in the new era of disingenuous \n",
    "corporate environmentalism, all while companies work furiously to delay the demise of the fossil\n",
    "fuel industry. the “net-zero” plans these companies offer are consistently and ineffective, but far\n",
    "too often they successfully divert scrutiny away from high-emissions organizations. that strategy received\n",
    "a colossal blow this week when a dutch court ruled that fossil fuel giant shell is obliged to cut \n",
    "its carbon dioxide emissions by  percent by the year  to align with the goals of the paris climate agreement.\n",
    "the case, brought by a collection of climate activists in  was dismissed in january by shell’s vice president\n",
    "of strategy and portfolio as a “noisy distraction.” five months later, that glib hubris has been spectacularly \n",
    "countered. to understand the significance of wednesday’s ruling, you have to understand the years of corporate \n",
    "maneuvering that the dutch court rejected. the privately owned companies that extract, process, and burn fossil \n",
    "fuels, and their complex network of lobby groups, have become adept in recent years at superficial p.r. moves to\n",
    "suggest to the public that they’re taking climate change seriously. mainstream politicians and nongovernmental\n",
    "organizations, meanwhile, have finally started to admit fossil fuel growth needs to end. earlier this month, the\n",
    "international energy agency published a new report that called for the immediate cessation of the construction of \n",
    "new coal plants and coal mines, and the end of new oil and gas field exploration. that’s a substantial shift. \n",
    "for some time, the iea served up narrative defense for the continued expansion of fossil fuel industries.\"\"\""
   ]
  },
  {
   "cell_type": "code",
   "execution_count": 4,
   "id": "9711f327",
   "metadata": {},
   "outputs": [],
   "source": [
    "words = word_tokenize(text)\n",
    "freq_table = dict()\n",
    "for word in words:\n",
    "#     word = word.lower()\n",
    "    if word in stoplist:\n",
    "        continue\n",
    "    if word in freq_table:\n",
    "        freq_table[word] += 1\n",
    "    else:\n",
    "        freq_table[word] = 1"
   ]
  },
  {
   "cell_type": "code",
   "execution_count": 5,
   "id": "2538984a",
   "metadata": {},
   "outputs": [],
   "source": [
    "sentences = sent_tokenize(text)\n",
    "sentencevalue = dict()"
   ]
  },
  {
   "cell_type": "code",
   "execution_count": 6,
   "id": "af7e2795",
   "metadata": {},
   "outputs": [],
   "source": [
    "for sent in sentences:\n",
    "    for word,freq in freq_table.items():\n",
    "        if word in sent.lower():\n",
    "            if sent in sentencevalue:\n",
    "                sentencevalue[sent] += freq \n",
    "            else :\n",
    "                sentencevalue[sent] = freq"
   ]
  },
  {
   "cell_type": "code",
   "execution_count": 7,
   "id": "1a81a2ad",
   "metadata": {},
   "outputs": [],
   "source": [
    "sumvalues = 0 \n",
    "for sent in sentencevalue:\n",
    "    sumvalues += sentencevalue[sent]"
   ]
  },
  {
   "cell_type": "code",
   "execution_count": 8,
   "id": "71c94422",
   "metadata": {},
   "outputs": [],
   "source": [
    "avg = int(sumvalues/len(sentencevalue))"
   ]
  },
  {
   "cell_type": "code",
   "execution_count": 9,
   "id": "a31005fd",
   "metadata": {},
   "outputs": [],
   "source": [
    "summary = \"\"\n",
    "for sent in sentences:\n",
    "    if sent in sentencevalue and (sentencevalue[sent]>(1.2 *avg)):\n",
    "        summary += sent"
   ]
  },
  {
   "cell_type": "code",
   "execution_count": 10,
   "id": "57933adf",
   "metadata": {},
   "outputs": [
    {
     "data": {
      "text/plain": [
       "'after decades of exhausting climate change denial, we’re now in the new era of disingenuous \\ncorporate environmentalism, all while companies work furiously to delay the demise of the fossil\\nfuel industry.the case, brought by a collection of climate activists in  was dismissed in january by shell’s vice president\\nof strategy and portfolio as a “noisy distraction.” five months later, that glib hubris has been spectacularly \\ncountered.the privately owned companies that extract, process, and burn fossil \\nfuels, and their complex network of lobby groups, have become adept in recent years at superficial p.r.'"
      ]
     },
     "execution_count": 10,
     "metadata": {},
     "output_type": "execute_result"
    }
   ],
   "source": [
    "summary "
   ]
  },
  {
   "cell_type": "code",
   "execution_count": null,
   "id": "cd14b6af",
   "metadata": {},
   "outputs": [],
   "source": []
  }
 ],
 "metadata": {
  "kernelspec": {
   "display_name": "Python 3 (ipykernel)",
   "language": "python",
   "name": "python3"
  },
  "language_info": {
   "codemirror_mode": {
    "name": "ipython",
    "version": 3
   },
   "file_extension": ".py",
   "mimetype": "text/x-python",
   "name": "python",
   "nbconvert_exporter": "python",
   "pygments_lexer": "ipython3",
   "version": "3.8.11"
  }
 },
 "nbformat": 4,
 "nbformat_minor": 5
}
